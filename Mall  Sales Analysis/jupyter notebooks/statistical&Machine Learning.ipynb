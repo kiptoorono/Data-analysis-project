{
 "cells": [
  {
   "cell_type": "code",
   "execution_count": null,
   "metadata": {},
   "outputs": [],
   "source": [
    "import pandas as pd\n",
    "import numpy as np\n",
    "from sklearn.preprocessing import StandardScaler\n",
    "from sklearn.cluster import KMeans\n",
    "import matplotlib.pyplot as plt\n",
    "\n",
    "# Load your data and preprocess it\n",
    "# ...\n",
    "\n",
    "# Select relevant features for clustering (e.g., age, quantity, price, etc.)\n",
    "selected_features = ['age', 'quantity', 'price']\n",
    "\n",
    "# Subset the data with selected features\n",
    "cluster_data = data[selected_features]\n",
    "\n",
    "# Standardize the features\n",
    "scaler = StandardScaler()\n",
    "cluster_data_scaled = scaler.fit_transform(cluster_data)\n",
    "\n",
    "# Determine the optimal number of clusters using the Elbow Method\n",
    "wcss = []\n",
    "for i in range(1, 11):\n",
    "    kmeans = KMeans(n_clusters=i, init='k-means++', random_state=42)\n",
    "    kmeans.fit(cluster_data_scaled)\n",
    "    wcss.append(kmeans.inertia_)\n",
    "\n",
    "# Plot the Elbow Method graph\n",
    "plt.figure(figsize=(10, 6))\n",
    "plt.plot(range(1, 11), wcss, marker='o', linestyle='--')\n",
    "plt.title('Elbow Method')\n",
    "plt.xlabel('Number of Clusters')\n",
    "plt.ylabel('WCSS')\n",
    "plt.show()\n",
    "\n",
    "# Based on the Elbow Method, choose the optimal number of clusters\n",
    "n_clusters = 3\n",
    "\n",
    "# Perform K-Means clustering\n",
    "kmeans = KMeans(n_clusters=n_clusters, init='k-means++', random_state=42)\n",
    "cluster_labels = kmeans.fit_predict(cluster_data_scaled)\n",
    "\n",
    "# Add cluster labels to the original data\n",
    "data['cluster'] = cluster_labels\n",
    "\n",
    "# Analyze the results\n",
    "cluster_summary = data.groupby('cluster').mean()\n",
    "print(cluster_summary)\n"
   ]
  },
  {
   "cell_type": "code",
   "execution_count": null,
   "metadata": {},
   "outputs": [],
   "source": [
    "# Count unique and repeated customer IDs\n",
    "unique_customer_ids = data['customer_id'].nunique()\n",
    "repeated_customer_ids = data['customer_id'].duplicated().sum()\n",
    "percentage_repeated_ids = (repeated_customer_ids / unique_customer_ids) * 100\n",
    "\n",
    "print(\"Total Unique Customer IDs:\", unique_customer_ids)\n",
    "print(\"Total Repeated Customer IDs:\", repeated_customer_ids)\n",
    "print(\"Percentage of Repeated Customer IDs:\", percentage_repeated_ids)"
   ]
  }
 ],
 "metadata": {
  "language_info": {
   "name": "python"
  },
  "orig_nbformat": 4
 },
 "nbformat": 4,
 "nbformat_minor": 2
}
